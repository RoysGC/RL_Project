{
 "cells": [
  {
   "cell_type": "code",
   "execution_count": null,
   "metadata": {},
   "outputs": [],
   "source": [
    "#73c9a156b91f3e0c01c3d5f332d23bfc66f4cdbf"
   ]
  },
  {
   "cell_type": "code",
   "execution_count": 1,
   "metadata": {},
   "outputs": [
    {
     "name": "stderr",
     "output_type": "stream",
     "text": [
      "Failed to detect the name of this notebook, you can set it manually with the WANDB_NOTEBOOK_NAME environment variable to enable code saving.\n",
      "\u001b[34m\u001b[1mwandb\u001b[0m: Logging into wandb.ai. (Learn how to deploy a W&B server locally: https://wandb.me/wandb-server)\n",
      "\u001b[34m\u001b[1mwandb\u001b[0m: You can find your API key in your browser here: https://wandb.ai/authorize\n",
      "\u001b[34m\u001b[1mwandb\u001b[0m: Paste an API key from your profile and hit enter, or press ctrl+c to quit:\u001b[34m\u001b[1mwandb\u001b[0m: Appending key for api.wandb.ai to your netrc file: /home/codespace/.netrc\n"
     ]
    },
    {
     "data": {
      "text/html": [
       "Tracking run with wandb version 0.16.1"
      ],
      "text/plain": [
       "<IPython.core.display.HTML object>"
      ]
     },
     "metadata": {},
     "output_type": "display_data"
    },
    {
     "data": {
      "text/html": [
       "Run data is saved locally in <code>/workspaces/RL_Project/Assault/wandb/run-20231212_081101-2ur6nn2t</code>"
      ],
      "text/plain": [
       "<IPython.core.display.HTML object>"
      ]
     },
     "metadata": {},
     "output_type": "display_data"
    },
    {
     "data": {
      "text/html": [
       "Syncing run <strong><a href='https://wandb.ai/rl_proj/DQN/runs/2ur6nn2t' target=\"_blank\">snowy-sound-2</a></strong> to <a href='https://wandb.ai/rl_proj/DQN' target=\"_blank\">Weights & Biases</a> (<a href='https://wandb.me/run' target=\"_blank\">docs</a>)<br/>"
      ],
      "text/plain": [
       "<IPython.core.display.HTML object>"
      ]
     },
     "metadata": {},
     "output_type": "display_data"
    },
    {
     "data": {
      "text/html": [
       " View project at <a href='https://wandb.ai/rl_proj/DQN' target=\"_blank\">https://wandb.ai/rl_proj/DQN</a>"
      ],
      "text/plain": [
       "<IPython.core.display.HTML object>"
      ]
     },
     "metadata": {},
     "output_type": "display_data"
    },
    {
     "data": {
      "text/html": [
       " View run at <a href='https://wandb.ai/rl_proj/DQN/runs/2ur6nn2t' target=\"_blank\">https://wandb.ai/rl_proj/DQN/runs/2ur6nn2t</a>"
      ],
      "text/plain": [
       "<IPython.core.display.HTML object>"
      ]
     },
     "metadata": {},
     "output_type": "display_data"
    },
    {
     "data": {
      "text/html": [
       "<button onClick=\"this.nextSibling.style.display='block';this.style.display='none';\">Display W&B run</button><iframe src='https://wandb.ai/rl_proj/DQN/runs/2ur6nn2t?jupyter=true' style='border:none;width:100%;height:420px;display:none;'></iframe>"
      ],
      "text/plain": [
       "<wandb.sdk.wandb_run.Run at 0x7f60e37f36d0>"
      ]
     },
     "execution_count": 1,
     "metadata": {},
     "output_type": "execute_result"
    }
   ],
   "source": [
    "import wandb\n",
    "wandb.init(project=\"DQN\", entity = \"rl_proj\")"
   ]
  },
  {
   "cell_type": "code",
   "execution_count": 1,
   "metadata": {},
   "outputs": [],
   "source": [
    "import gym\n",
    "import random\n",
    "import numpy as np\n",
    "import tensorflow as tf\n",
    "from tensorflow import keras\n",
    "from tensorflow.keras import layers\n",
    "from collections import namedtuple, deque\n",
    "import time\n",
    "from ale_py import ALEInterface\n",
    "import imageio\n",
    "import matplotlib.pyplot as plt\n",
    "from IPython.display import display, clear_output\n",
    "from utils_DQN import *\n",
    "import os"
   ]
  },
  {
   "cell_type": "code",
   "execution_count": null,
   "metadata": {},
   "outputs": [],
   "source": [
    "\n",
    "os.environ['TF_CPP_MIN_LOG_LEVEL'] = '3'\n",
    "\n",
    "ale = ALEInterface()\n",
    "\n",
    "np.random.seed(42)\n",
    "tf.random.set_seed(42)\n",
    "\n",
    "\n",
    "config= Config()\n",
    "best_reward = 0\n",
    "\n",
    "env = gym.make(\"Assault-v4\") \n",
    "n_actions = env.action_space.n\n",
    "\n",
    "#Model and memory creation\n",
    "model = DQN(n_actions)\n",
    "model_target = DQN(n_actions)\n",
    "memory = ReplayMemory(10000)\n",
    "\n",
    "# Defining optimizer and loss function\n",
    "optimizer = keras.optimizers.Adam(learning_rate=2.5e-4, clipnorm=1.0)\n",
    "loss_function = keras.losses.Huber()\n",
    "\n",
    "episode_rewards = []\n",
    "losses = []\n",
    "\n",
    "best_reward = float(\"-inf\")\n",
    "best_episode = 0\n",
    "best_frames = []\n",
    "\n",
    "# Training the Agent\n",
    "epsilon = config.EPSILON_START\n",
    "for episode in range(config.EPISODES):\n",
    "    # Initialize episode parameters\n",
    "    state = env.reset() / 255.0\n",
    "    done = False\n",
    "    episode_reward = 0\n",
    "    steps = 0\n",
    "    info = {'ale.lives': 4, 'episode_frame_number': 2, 'frame_number': 2}\n",
    "    frames = []\n",
    "    episode_reward = 0\n",
    "\n",
    "    # Execute the episode until termination or loss of lives\n",
    "    while not done and info.get(\"ale.lives\") >= 0:\n",
    "        # Choose an action using epsilon-greedy strategy\n",
    "        action = take_action(state, epsilon, env, model)\n",
    "\n",
    "        # Perform the chosen action and observe the next state and reward\n",
    "        step_result = env.step(action)\n",
    "        next_state, reward, done, info = step_result\n",
    "        next_state = next_state / 255.0\n",
    "\n",
    "        # Store the transition in the replay memory\n",
    "        memory.push(state, action, next_state, reward, done)\n",
    "\n",
    "        # Optimize the Q-network using experience replay\n",
    "        optimize_model(memory, config, model, model_target, n_actions, loss_function, optimizer)\n",
    "\n",
    "        # Render the environment for visualization\n",
    "        frame = env.render(mode='rgb_array')\n",
    "        frames.append(frame)\n",
    "\n",
    "        # Update the current state and accumulate episode reward\n",
    "        state = next_state\n",
    "        episode_reward += reward\n",
    "\n",
    "        # Print information for non-zero rewards\n",
    "        if reward != 0:\n",
    "            print(\"step: \", steps, \"action: \", action, \" reward: \", reward)\n",
    "            print(\"Lives: \", info.get(\"ale.lives\"))\n",
    "\n",
    "        steps += 1\n",
    "\n",
    "    # Print episode summary\n",
    "    print(f\"\\nEpisode: {episode+1}, Reward: {episode_reward}, Epsilon: {epsilon}\")\n",
    "\n",
    "    # Save the best models based on episode reward\n",
    "    if episode_reward > best_reward:\n",
    "        best_reward = episode_reward\n",
    "        model.save(\"./best_DQN_model\", save_format=\"tf\")\n",
    "        model_target.save(\"./best_DQN_model_target\", save_format=\"tf\")\n",
    "        print(\"New best model saved with reward:\", episode_reward)\n",
    "\n",
    "        # Save episode frames as a GIF for visualization\n",
    "        gif_path = f\"./episode_{episode+1}_reward_{episode_reward}.gif\"\n",
    "        imageio.mimsave(gif_path, frames, fps=30)\n",
    "\n",
    "    # Log episode statistics and update epsilon\n",
    "    episode_rewards.append(episode_reward)\n",
    "    epsilon = max((epsilon * config.EPSILON_DECAY_RATE), config.EPSILON_END)\n",
    "    #wandb.log({\"episode\": episode + 1, \"reward\": episode_reward, \"epsilon\": epsilon})\n",
    "\n",
    "    # Update the target Q-network periodically\n",
    "    if (episode + 1) % config.TARGET_UPDATE == 0:\n",
    "        model_target.set_weights(model.get_weights())\n",
    "\n",
    "env.close()\n",
    "\n"
   ]
  },
  {
   "cell_type": "code",
   "execution_count": null,
   "metadata": {},
   "outputs": [],
   "source": [
    "#Plotting rewards per episode\n",
    "plot_rewards(episode_rewards)\n"
   ]
  },
  {
   "cell_type": "code",
   "execution_count": null,
   "metadata": {},
   "outputs": [],
   "source": [
    "#TEST THE SAVED MODEL\n",
    "import gym\n",
    "import numpy as np\n",
    "import tensorflow as tf\n",
    "from tensorflow import keras\n",
    "import matplotlib.pyplot as plt\n",
    "\n",
    "DQN_model = keras.models.load_model(f\"./best_DQN_model\")\n",
    "DQN_model_target = keras.models.load_model(f\"./best_DQN_model_target\")\n",
    "\n",
    "env = gym.make(\"Assault-v4\")\n",
    "n_actions = env.action_space.n\n",
    "\n",
    "\n",
    "rewards_per_episode = []\n",
    "best_reward = 0\n",
    "\n",
    "# Loop through episodes for testing the trained agent\n",
    "for episode in range(20):\n",
    "    # Initialize episode parameters and reset the environment\n",
    "    state = env.reset()\n",
    "    state = state / 255.0  \n",
    "    done = False\n",
    "    episode_reward = 0\n",
    "    frames = []\n",
    "    info = {'ale.lives': 4, 'episode_frame_number': 2, 'frame_number': 2}\n",
    "\n",
    "    # Execute the episode until termination\n",
    "    while not done:\n",
    "        # Choose an action using the learned Q-network\n",
    "        action = take_action_test(state, model)\n",
    "\n",
    "        # Perform the chosen action and observe the next state and reward\n",
    "        next_state, reward, done, info = env.step(action)\n",
    "        next_state = next_state / 255.0  \n",
    "\n",
    "        # Render the environment for visualization\n",
    "        frame = env.render(mode='rgb_array')\n",
    "        frames.append(frame)\n",
    "\n",
    "        # Update the current state and accumulate episode reward\n",
    "        state = next_state\n",
    "        episode_reward += reward\n",
    "\n",
    "        # Print information for non-zero rewards\n",
    "        if reward != 0:\n",
    "            print(\"action: \", action, \" reward: \", reward)\n",
    "            print(\"Lives: \", info.get(\"ale.lives\"))\n",
    "\n",
    "    # Store and print the total reward for the episode\n",
    "    rewards_per_episode.append(episode_reward)\n",
    "    print(f\"Episode {episode + 1}: Reward = {episode_reward}\")\n",
    "\n",
    "    # Save the best test episode frames as a GIF\n",
    "    if episode_reward > best_reward:\n",
    "        best_reward = episode_reward  \n",
    "        gif_path = f\"./test_episode_{episode+1}_reward_{episode_reward}.gif\"\n",
    "        imageio.mimsave(gif_path, frames, fps=30)\n",
    "\n",
    "    # Log episode metrics and GIF to wandb\n",
    "    #wandb.log({\"episode\": episode + 1, \"reward\": episode_reward, \"epsilon\": epsilon, \"episode_gif\": wandb.Video(gif_path, fps=4, format=\"gif\")})\n",
    "\n",
    "env.close()\n",
    "\n",
    "# Plot the rewards per episode\n",
    "plt.plot(rewards_per_episode)\n",
    "plt.xlabel('Episode')\n",
    "plt.ylabel('Reward')\n",
    "plt.title('Reward per Episode')\n",
    "plt.show()\n"
   ]
  },
  {
   "cell_type": "code",
   "execution_count": null,
   "metadata": {},
   "outputs": [],
   "source": []
  }
 ],
 "metadata": {
  "kernelspec": {
   "display_name": "base",
   "language": "python",
   "name": "python3"
  },
  "language_info": {
   "codemirror_mode": {
    "name": "ipython",
    "version": 3
   },
   "file_extension": ".py",
   "mimetype": "text/x-python",
   "name": "python",
   "nbconvert_exporter": "python",
   "pygments_lexer": "ipython3",
   "version": "3.8.8"
  }
 },
 "nbformat": 4,
 "nbformat_minor": 2
}
